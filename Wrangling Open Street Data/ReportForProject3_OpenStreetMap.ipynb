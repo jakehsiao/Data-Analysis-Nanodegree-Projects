{
 "cells": [
  {
   "cell_type": "markdown",
   "metadata": {},
   "source": [
    "# OpenStreetMap Data Case Study\n",
    "## Map Area\n",
    "Los-Angeles, California.<br/>\n",
    "https://mapzen.com/data/metro-extracts/metro/los-angeles_california/ <br/>\n",
    "This city is one of my favorate cities in US, so I’m more interested to see what database querying reveals.\n",
    "\n",
    "## Problems Encountered in the Map\n",
    "Here are x main problems that I noticed after looking at a small sample size of the data.\n",
    "- \"Type:key\" patterned \"k\" value in tags\n",
    "- Abbreviated street type\n",
    "- Post code inconsistency problem\n",
    "- Duplication problem of node_id field\n",
    "- Region included much more than los-angeles itself \n",
    "<br />\n",
    "<br />\n",
    "Next, I am going to approach those problems step by step and the prodedures are shown with code below."
   ]
  },
  {
   "cell_type": "markdown",
   "metadata": {},
   "source": [
    "### 'k' Value problem of tags\n",
    "First, let us dive into k values of the tags."
   ]
  },
  {
   "cell_type": "code",
   "execution_count": 16,
   "metadata": {
    "collapsed": true
   },
   "outputs": [],
   "source": [
    "'''First of all, the functions of data operating is imported.'''\n",
    "from tools import *"
   ]
  },
  {
   "cell_type": "code",
   "execution_count": 2,
   "metadata": {
    "collapsed": false
   },
   "outputs": [],
   "source": [
    "from dbi import *\n",
    "PATH_HEADER=\"F:\\Hsiao's studying\\Computing\\Udacity P3\\\\\"\n",
    "dbi=dbInterface(PATH_HEADER+'mapdata.db')"
   ]
  },
  {
   "cell_type": "code",
   "execution_count": 3,
   "metadata": {
    "collapsed": false
   },
   "outputs": [
    {
     "name": "stdout",
     "output_type": "stream",
     "text": [
      "problemchars : 0\n",
      "lower : 35956\n",
      "other : 704\n",
      "lower_colon : 30367\n"
     ]
    }
   ],
   "source": [
    "'''Next, the k values with problem are reported below.'''\n",
    "probKey=find_problem_key(OSM_PATH)\n",
    "for i in probKey:\n",
    "    print i,':',len(probKey[i])"
   ]
  },
  {
   "cell_type": "markdown",
   "metadata": {},
   "source": [
    "The result above shows several facts:\n",
    "- No problem chars appears in sample dataset(like ?#*)\n",
    "- About half of the k values are in all-lower case\n",
    "- Another half are in lower_colon(which looks like \"type:key\")"
   ]
  },
  {
   "cell_type": "markdown",
   "metadata": {},
   "source": [
    "Solution: Before gathering the osm data into csv and db, seperate the 'k' field into fields 'type' and 'key'.<br/>\n",
    "For those regular k values, just assign the type as 'regular' and key as the value provided;<br/>\n",
    "For lower_colon cases, assign the type field with the content before the ':' sign which is first represented in the value and the key field with the content after the ':' sign."
   ]
  },
  {
   "cell_type": "code",
   "execution_count": 11,
   "metadata": {
    "collapsed": true
   },
   "outputs": [],
   "source": [
    "def split_k_value(rawAttrib):\n",
    "    '''this is the solution.\n",
    "       'k,v' fields are seperated in 'type,key,value' fields.\n",
    "    '''\n",
    "    tagAttrib={}\n",
    "    tagAttrib['value']=rawAttrib['v']\n",
    "    kContent=rawAttrib['k'].split(':')\n",
    "    if len(kContent)==1:\n",
    "        kContent=['regular']+kContent # add the regular\n",
    "    tagAttrib['type']=kContent[0]\n",
    "    tagAttrib['key']=':'.join(kContent[1:])\n",
    "    return tagAttrib"
   ]
  },
  {
   "cell_type": "markdown",
   "metadata": {},
   "source": [
    "### Abbreviated Street Name Problem\n",
    "Next let us dive into the problem of abbreviated street types which is the last word of the street name.\n",
    "Some of the name are type-abbreviated for example 'St' is written instead of 'Street'."
   ]
  },
  {
   "cell_type": "code",
   "execution_count": 8,
   "metadata": {
    "collapsed": false
   },
   "outputs": [
    {
     "name": "stdout",
     "output_type": "stream",
     "text": [
      "Aguacate : set(['Via del Aguacate'])\n",
      "Alamitos : set(['Alamitos'])\n",
      "Albercon : set(['Avenida Albercon'])\n",
      "Alevera : set(['Alevera'])\n",
      "Alondra : set(['Alondra'])\n",
      "Amigos : set(['Los Amigos'])\n",
      "Asbury : set(['Asbury'])\n",
      "Ashfield : set(['Ashfield'])\n",
      "Atascadero : set(['Atascadero'])\n",
      "Autumn : set(['Autumn'])\n",
      "Av : set(['1341 Euclid St @Trask Av'])\n",
      "Ave : set(['Newhal Ave', 'Quince Ave', 'Bison Ave', 'Sandalwood Ave'])\n",
      "Aven : set(['Chapman Aven'])\n",
      "Avondale : set(['Avondale'])\n",
      "Barbara : set(['Avenida Santa Barbara'])\n",
      "Bend : set(['Upper Bend'])\n",
      "Birmingham : set(['Birmingham'])\n",
      "Blvd : set(['Wilshire Blvd', 'Foothill Blvd', 'West Coast Blvd'])\n",
      "Boda : set(['Boda'])\n",
      "Bolas : set(['Calle Las Bolas'])\n",
      "Borrego : set(['Borrego'])\n",
      "Bragg : set(['Bragg'])\n",
      "Brillantez : set(['Brillantez'])\n",
      "Broadway : set(['South Broadway'])\n",
      "Brook : set(['Kari Brook'])\n",
      "Bumblebee : set(['Bumblebee'])\n",
      "Cabrillo : set(['Calle Cabrillo'])\n",
      "Calais : set(['Calais'])\n",
      "Cambridge : set(['Cambridge'])\n",
      "Canada : set(['West Canada'])\n",
      "Carson : set(['Carson'])\n",
      "Cashew : set(['Cashew'])\n",
      "Castle : set(['Stone Castle'])\n",
      "Cedarspring : set(['Cedarspring'])\n",
      "Chantilly : set(['Chantilly'])\n",
      "Choate : set(['Choate'])\n",
      "Cir : set(['Mills Cir'])\n",
      "Circle : set(['Crystal Circle', 'Charwood Circle', 'Green Valley Circle', 'Sunnybrook Circle', 'Waterford Circle', 'Plainview Circle', 'Wavespray Circle', 'Larkspur Circle', 'Alamo Circle', 'Fort Apache Circle', 'Dartmouth Circle', 'Parkmont Circle', 'Claude Circle'])\n",
      "Citron : set(['Citron'])\n",
      "City : set(['Crescent City'])\n",
      "Clemente : set(['San Clemente'])\n",
      "Clover : set(['Clover'])\n",
      "Copperleaf : set(['Copperleaf'])\n",
      "Coralita : set(['Coralita'])\n",
      "Cordoba : set(['West Avenida Cordoba'])\n",
      "Cornelio : set(['West Avenida Cornelio'])\n",
      "Cornwallis : set(['Cornwallis'])\n",
      "Creek : set(['Walnut Creek'])\n",
      "Crest : set(['Coyote Crest', 'Scenic Crest'])\n",
      "Crockett : set(['Crockett'])\n",
      "Ct : set(['Blue Rock Ct', 'Hollyheath Ct'])\n",
      "Cunningham : set(['Cunningham'])\n",
      "Delaware : set(['Delaware'])\n",
      "Domani : set(['Domani'])\n",
      "Dorado : set(['Via el Dorado'])\n",
      "Dr : set(['Arrastra Dr', 'Dawnview Dr'])\n",
      "Dunmore : set(['Dunmore'])\n",
      "Elderwood : set(['Elderwood'])\n",
      "Escalones : set(['West Escalones'])\n",
      "Estoril : set(['Via Estoril'])\n",
      "Estrella : set(['North Avenida de la Estrella'])\n",
      "Flametree : set(['Flametree'])\n",
      "Gables : set(['Gables'])\n",
      "Galeana : set(['Galeana'])\n",
      "Gate : set(['Iron Gate'])\n",
      "Gatewood : set(['Gatewood'])\n",
      "Gaviota : set(['West Avenida Gaviota'])\n",
      "Genoa : set(['Genoa'])\n",
      "Glen : set(['Highfield Glen', 'Scots Glen'])\n",
      "Glenoaks : set(['Glenoaks'])\n",
      "Goldrush : set(['Goldrush'])\n",
      "Granada : set(['Avenida Granada'])\n",
      "Grant : set(['Grant'])\n",
      "Grass : set(['Prarie Grass'])\n",
      "Groveland : set(['Groveland'])\n",
      "Hathaway : set(['Hathaway'])\n",
      "Hazelton : set(['Hazelton'])\n",
      "Hazelwood : set(['Hazelwood'])\n",
      "Hearthstone : set(['Hearthstone'])\n",
      "Henry : set(['Henry'])\n",
      "Homecoming : set(['Homecoming'])\n",
      "Honeyflower : set(['Honeyflower'])\n",
      "Jenner : set(['Jenner'])\n",
      "Keepsake : set(['Keepsake'])\n",
      "Kingsbury : set(['Kingsbury'])\n",
      "Larchwood : set(['Larchwood'])\n",
      "Larkfield : set(['Larkfield'])\n",
      "Ln : set(['Wick Ln'])\n",
      "Lomas : set(['Calle Tres Lomas', 'Dos Lomas'])\n",
      "Lowland : set(['Lowland'])\n",
      "Lupari : set(['Lupari'])\n",
      "Mall : set(['East Mall'])\n",
      "Mallorca : set(['Mallorca'])\n",
      "Mar : set(['Avenida del Mar', 'Baja Mar'])\n",
      "Meade : set(['Meade'])\n",
      "Meadowgrass : set(['Meadowgrass'])\n",
      "Medlar : set(['Medlar'])\n",
      "Minnesota : set(['Minnesota'])\n",
      "Modesto : set(['Modesto'])\n",
      "Momento : set(['Momento'])\n",
      "Monterey : set(['Avenida Monterey'])\n",
      "Monticello : set(['Monticello'])\n",
      "Morella : set(['Morella'])\n",
      "Navigator : set(['Navigator'])\n",
      "Newall : set(['Newall'])\n",
      "Niguel : set(['Paseo del Niguel'])\n",
      "Nuevo : set(['Puerto Nuevo'])\n",
      "Olivos : set(['Paseo de Olivos'])\n",
      "Orilla : set(['Via la Orilla'])\n",
      "Paloma : set(['la Paloma'])\n",
      "Parc : set(['Rue du Parc'])\n",
      "Park : set(['Highland Park', 'Kensington Park'])\n",
      "Paseo : set(['El Paseo'])\n",
      "Path : set(['Gardenstone Path'])\n",
      "Pear : set(['Prickly Pear'])\n",
      "Pelayo : set(['Avenida Pelayo'])\n",
      "Periwinkle : set(['Periwinkle'])\n",
      "Pinewood : set(['Pinewood'])\n",
      "Pl : set(['Barsac Pl'])\n",
      "Plaza : set(['Via Pico Plaza'])\n",
      "Plumeria : set(['Plumeria'])\n",
      "Primavera : set(['Calle Primavera'])\n",
      "Princesa : set(['Via Princesa', 'Avenida Princesa'])\n",
      "Prospect : set(['Prospect'])\n",
      "Radial : set(['Radial'])\n",
      "Redhawk : set(['Redhawk'])\n",
      "Richmond : set(['Richmond'])\n",
      "Riveroaks : set(['Riveroaks'])\n",
      "Rockport : set(['Rockport'])\n",
      "Rosa : set(['Avenida Rosa'])\n",
      "Sabiosa : set(['Sabiosa'])\n",
      "Sagecrest : set(['Sagecrest'])\n",
      "Sebastian : set(['Sebastian'])\n",
      "Sedgewick : set(['Sedgewick'])\n",
      "Shadybend : set(['Shadybend'])\n",
      "Shelbourne : set(['Shelbourne'])\n",
      "Sol : set(['Casitas del Sol'])\n",
      "Southampton : set(['Southampton'])\n",
      "Spinnaker : set(['Spinnaker'])\n",
      "Spyrock : set(['Spyrock'])\n",
      "St : set(['Lakeshore St', 'Paseo Fino St', 'Bryant St', 'Windchime St'])\n",
      "St. : set(['E. 1st St.'])\n",
      "Statuary : set(['Statuary'])\n",
      "Stowe : set(['Stowe'])\n",
      "Sunriver : set(['Sunriver'])\n",
      "Symphony : set(['Symphony'])\n",
      "Talmadge : set(['Talmadge'])\n",
      "Terrace : set(['Valley Rim Terrace', 'Wheaton Terrace'])\n",
      "Tonada : set(['Via Tonada'])\n",
      "Toscany : set(['Toscany'])\n",
      "Track : set(['Deer Track'])\n",
      "Trellis : set(['Painted Trellis'])\n",
      "Valley : set(['Spring Valley'])\n",
      "Vendaval : set(['Paseo Vendaval'])\n",
      "Veneto : set(['Veneto'])\n",
      "Verde : set(['Questa Verde'])\n",
      "Villa : set(['Camino Villa'])\n",
      "Violet : set(['Scented Violet'])\n",
      "Vista : set(['Buena Vista'])\n",
      "Wadsworth : set(['Wadsworth'])\n",
      "Washington : set(['Washington'])\n",
      "Waterleaf : set(['Waterleaf'])\n",
      "Waterspout : set(['Waterspout'])\n",
      "Way : set(['San Antonio Way', 'Morab Way', 'Winding Way', 'Curly Horse Way', 'Arnold Way', 'Wesley Way', 'Jasmines Way', 'Silver Spur Way', 'Solitaire Way', 'Goldbriar Way', 'Elsberry Way', 'Walnutwood Way', 'Steeplechase Way'])\n",
      "Wright : set(['Wright'])\n",
      "Wy : set(['Wallace Wy', 'Silverweed Wy'])\n",
      "Yountville : set(['Yountville'])\n",
      "Zara : set(['Camino Zara'])\n"
     ]
    }
   ],
   "source": [
    "tc=type_count(OSM_PATH) # call the function which count the types of the streets\n",
    "tc=sorted(tc.items(),key=lambda i:i[0]) # to make them output in alphabetic order\n",
    "for i in tc:\n",
    "    print i[0],':',i[1]"
   ]
  },
  {
   "cell_type": "markdown",
   "metadata": {},
   "source": [
    "Plenty of non-English words represented in the results above and this is very California.<br/>\n",
    "Some of them looks like abbreviation(like Pl, Ln and Mar) but I am not that sure so I decide to ignore them.\n",
    "My name updating process will focus on streets, roads, avenues and circles.<br/><br/>\n",
    "To solve this problem, if the k value of tag is 'addr:street', its value would be changed using the function and mapping below."
   ]
  },
  {
   "cell_type": "code",
   "execution_count": 10,
   "metadata": {
    "collapsed": true
   },
   "outputs": [],
   "source": [
    "# updating dictionary\n",
    "mapping = { \"St\": \"Street\",\n",
    "            \"St.\": \"Street\",\n",
    "           'Av':\"Avenue\",\n",
    "            \"Ave\":\"Avenue\",\n",
    "            'Ave.':'Avenue',\n",
    "           'Aven':'Avenue',\n",
    "            'Rd':'Road',\n",
    "            'Rd.':'Road',\n",
    "           'Cir':'Circle'\n",
    "            }"
   ]
  },
  {
   "cell_type": "code",
   "execution_count": 12,
   "metadata": {
    "collapsed": true
   },
   "outputs": [],
   "source": [
    "def update_name(name, mapping):\n",
    "    '''change the last word of the street's name from abbr to fullname'''\n",
    "    name=name.split()\n",
    "    if name[-1] in mapping:\n",
    "        name[-1]=mapping[name[-1]]\n",
    "    return ' '.join(name)"
   ]
  },
  {
   "cell_type": "markdown",
   "metadata": {},
   "source": [
    "### Postcode Inconsistency Problem\n",
    "Postal code strings posed a different sort of problem, forcing a decision to strip all leading and trailing characters before and after the main 5­digit zip code. This effectively dropped all leading state characters (such as “AAXXXXX”) and 4­digit zip code extensions following a hyphen (“XXXXX-XXXX”). This 5­digit restriction allows for more consistent queries.<br/><br/>\n",
    "To solve this, if the k value of the tag is 'addr:postcode', the value of it would be changed using the function below."
   ]
  },
  {
   "cell_type": "code",
   "execution_count": 18,
   "metadata": {
    "collapsed": true
   },
   "outputs": [],
   "source": [
    "def update_postcode(postcode):\n",
    "    # change the postcode to 'XXXXX' in pattern 'XXXXX-XXXX' or 'AAXXXXX' (A means alpha and X means digit)\n",
    "    postcode=str(postcode)\n",
    "    if len(postcode)==5:\n",
    "        return postcode\n",
    "    elif len(postcode)!=5 and postcode[0].isdigit():\n",
    "        return postcode[:5]\n",
    "    elif not postcode[0].isdigit():\n",
    "        for i in range(len(postcode)):\n",
    "            if postcode[i].isdigit():\n",
    "                return postcode[i:i+5]\n",
    "    "
   ]
  },
  {
   "cell_type": "markdown",
   "metadata": {},
   "source": [
    "### NodeID Duplication Problem\n",
    "In the process of importing the csv data into database, I found that with the primary key restriction of node id, most nodes are error-raised(sqlite3.IntegrityError). This is caused by duplication of the node-id inside the csv file. I found that all the updating of a node is recorded in the original xml file and only the latest update is required to be imported to database.<br/>\n",
    "To solve this problem, the code below with 'try-catch' statement is presented.\n",
    "Because the later updating always appear priorier than the pre ones, so just skip those pre updates which cause the integrity error."
   ]
  },
  {
   "cell_type": "code",
   "execution_count": null,
   "metadata": {
    "collapsed": true
   },
   "outputs": [],
   "source": [
    "try:\n",
    "    to_db=map(self.unicode_change,i.values()) # map the function which change the bytestring to unicode string\n",
    "    self.cu.execute(\"INSERT INTO %s(%s) VALUES (%s);\"%(table_name,','.join(i.keys()),','.join(['?']*len(to_db))),to_db)\n",
    "except Exception as e:\n",
    "    if type(e)==sqlite3.IntegrityError: # pass the integrity errors\n",
    "        pass\n",
    "    else:\n",
    "        print type(e),':',e # report other errors\n",
    "        print i.values()\n",
    "        time.sleep(0.3)"
   ]
  },
  {
   "cell_type": "markdown",
   "metadata": {},
   "source": [
    "### Sort Cities By Count\n",
    "These results confirmed my suspicion that this metro extract would perhaps be more aptly named “Metrolina” or the “Los-Angeles Metropolitan Area” for its inclusion of surrounding cities in the sprawl."
   ]
  },
  {
   "cell_type": "code",
   "execution_count": 3,
   "metadata": {
    "collapsed": false
   },
   "outputs": [
    {
     "name": "stdout",
     "output_type": "stream",
     "text": [
      "(u'Irvine', 25004)\n",
      "(u'Lake Forest', 14844)\n",
      "(u'Fallbrook', 12515)\n",
      "(u'Norco', 7284)\n",
      "(u'San Clemente', 4113)\n",
      "(u'Los Angeles', 1997)\n",
      "(u'Tustin', 1947)\n",
      "(u'Trabuco Canyon', 1659)\n",
      "(u'Foothill Ranch', 1641)\n",
      "(u'Pomona', 931)\n",
      "(u'Corona', 800)\n",
      "(u'Rancho Cucamonga', 672)\n",
      "(u'Pauma Valley', 610)\n",
      "(u'Laguna Niguel', 582)\n",
      "(u'Ontario', 551)\n"
     ]
    }
   ],
   "source": [
    "# sort cities\n",
    "dbi.select_and_repr(\n",
    "'''\n",
    "SELECT tags.value, COUNT(*) as count \n",
    "FROM (SELECT * FROM nodes_tags UNION ALL \n",
    "      SELECT * FROM ways_tags) tags\n",
    "WHERE tags.key LIKE '%city'\n",
    "GROUP BY tags.value\n",
    "ORDER BY count DESC\n",
    "LIMIT 0,15;\n",
    "'''\n",
    ") "
   ]
  },
  {
   "cell_type": "markdown",
   "metadata": {},
   "source": [
    "## Data Overview\n",
    "This section contains basic statistics about the dataset, and the SQL queries used to gather them.\n",
    "### File sizes"
   ]
  },
  {
   "cell_type": "code",
   "execution_count": null,
   "metadata": {
    "collapsed": true
   },
   "outputs": [],
   "source": [
    "file sizes:\n",
    "    los-angeles_california.osm ......... 4.07 GB\n",
    "    mapdata.db ......................... 2.43 GB\n",
    "    nodes.csv .......................... 1.62 GB\n",
    "    nodes_tags.csv ..................... 33.8 MB\n",
    "    ways.csv ............................ 124 MB\n",
    "    ways_tags.csv ....................... 513 MB\n",
    "    ways_nodes.cv ....................... 414 MB  "
   ]
  },
  {
   "cell_type": "markdown",
   "metadata": {},
   "source": [
    "### Number of nodes"
   ]
  },
  {
   "cell_type": "code",
   "execution_count": 4,
   "metadata": {
    "collapsed": false
   },
   "outputs": [
    {
     "name": "stdout",
     "output_type": "stream",
     "text": [
      "(18910668,)\n"
     ]
    }
   ],
   "source": [
    "# number of nodes\n",
    "dbi.select_and_repr('SELECT COUNT(*) FROM nodes;')"
   ]
  },
  {
   "cell_type": "markdown",
   "metadata": {},
   "source": [
    "### Number of ways"
   ]
  },
  {
   "cell_type": "code",
   "execution_count": 5,
   "metadata": {
    "collapsed": false,
    "scrolled": true
   },
   "outputs": [
    {
     "name": "stdout",
     "output_type": "stream",
     "text": [
      "(1947075,)\n"
     ]
    }
   ],
   "source": [
    "# number of ways\n",
    "dbi.select_and_repr('SELECT COUNT(*) FROM ways;')"
   ]
  },
  {
   "cell_type": "markdown",
   "metadata": {},
   "source": [
    "### Number of unique users"
   ]
  },
  {
   "cell_type": "code",
   "execution_count": 3,
   "metadata": {
    "collapsed": false,
    "scrolled": false
   },
   "outputs": [
    {
     "name": "stdout",
     "output_type": "stream",
     "text": [
      "(3387,)\n"
     ]
    }
   ],
   "source": [
    "# number of unique users\n",
    "dbi.select_and_repr('SELECT COUNT(DISTINCT(e.uid)) FROM (SELECT uid FROM nodes UNION ALL SELECT uid FROM ways) e;')"
   ]
  },
  {
   "cell_type": "markdown",
   "metadata": {},
   "source": [
    "### Top 10 contributing user"
   ]
  },
  {
   "cell_type": "code",
   "execution_count": 4,
   "metadata": {
    "collapsed": false
   },
   "outputs": [
    {
     "name": "stdout",
     "output_type": "stream",
     "text": [
      "(u'manings_labuildings', 2112352)\n",
      "(u'schleuss_imports', 1559776)\n",
      "(u'Jothirnadh_labuildings', 1316835)\n",
      "(u'calfarome_labuilding', 693222)\n",
      "(u'nammala_labuildings', 604213)\n",
      "(u'Luis36995_labuildings', 596527)\n",
      "(u'saikabhi_LA_imports', 570205)\n",
      "(u'The Temecula Mapper', 548130)\n",
      "(u'planemad_imports', 529421)\n",
      "(u'woodpeck_fixbot', 510267)\n"
     ]
    }
   ],
   "source": [
    "# top 10 contributing user\n",
    "dbi.select_and_repr('''SELECT e.user, COUNT(*) as num\n",
    "FROM (SELECT user FROM nodes UNION ALL SELECT user FROM ways) e\n",
    "GROUP BY e.user\n",
    "ORDER BY num DESC\n",
    "LIMIT 10;''')"
   ]
  },
  {
   "cell_type": "markdown",
   "metadata": {},
   "source": [
    "### Number of users that appear only once"
   ]
  },
  {
   "cell_type": "code",
   "execution_count": 5,
   "metadata": {
    "collapsed": false
   },
   "outputs": [
    {
     "name": "stdout",
     "output_type": "stream",
     "text": [
      "(735,)\n"
     ]
    }
   ],
   "source": [
    "# num of users that only appear once\n",
    "dbi.select_and_repr(''' SELECT COUNT(*) \n",
    "FROM\n",
    "    (SELECT e.user, COUNT(*) as num\n",
    "     FROM (SELECT user FROM nodes UNION ALL SELECT user FROM ways) e\n",
    "     GROUP BY e.user\n",
    "     HAVING num=1)  u;''')"
   ]
  },
  {
   "cell_type": "markdown",
   "metadata": {},
   "source": [
    "## Additional Ideas\n",
    "### Contributor statistics\n",
    "The contribution of users is skewed but not that skewed, and most of the data is provided with the users which has '_labuildings' inside their usernames. Here are some user percentage statistics:\n",
    "- Top user contribution percentage('manings_labuildings'): 10.13%\n",
    "- Combined top 10 users contribution: 43.35%\n",
    "- Combined user with '_labuildings' contribution: 33.03%\n",
    "It is obvious that 'labuildings' usergroup contributes about one third of the map data."
   ]
  },
  {
   "cell_type": "markdown",
   "metadata": {},
   "source": [
    "## Additional Data Exploration\n",
    "### Top 10 appearing amentities"
   ]
  },
  {
   "cell_type": "code",
   "execution_count": 7,
   "metadata": {
    "collapsed": false
   },
   "outputs": [
    {
     "name": "stdout",
     "output_type": "stream",
     "text": [
      "(u'place_of_worship', 3712)\n",
      "(u'school', 2926)\n",
      "(u'restaurant', 2528)\n",
      "(u'fast_food', 1405)\n",
      "(u'fuel', 814)\n",
      "(u'cafe', 734)\n",
      "(u'fountain', 686)\n",
      "(u'bench', 633)\n",
      "(u'toilets', 578)\n",
      "(u'parking', 510)\n"
     ]
    }
   ],
   "source": [
    "# top 10 appearing amenities\n",
    "dbi.select_and_repr('''SELECT value, COUNT(*) as num\n",
    "FROM nodes_tags\n",
    "WHERE key='amenity'\n",
    "GROUP BY value\n",
    "ORDER BY num DESC\n",
    "LIMIT 10;''')"
   ]
  },
  {
   "cell_type": "markdown",
   "metadata": {},
   "source": [
    "### Top 3 religions"
   ]
  },
  {
   "cell_type": "code",
   "execution_count": 10,
   "metadata": {
    "collapsed": false
   },
   "outputs": [
    {
     "name": "stdout",
     "output_type": "stream",
     "text": [
      "(u'christian', 3466)\n",
      "(u'jewish', 35)\n",
      "(u'buddhist', 19)\n"
     ]
    }
   ],
   "source": [
    "# top 3 religions\n",
    "dbi.select_and_repr(\n",
    "''' SELECT nodes_tags.value, COUNT(*) as num\n",
    "FROM nodes_tags \n",
    "    JOIN (SELECT DISTINCT(id) FROM nodes_tags WHERE value='place_of_worship') i\n",
    "    ON nodes_tags.id=i.id\n",
    "WHERE nodes_tags.key='religion'\n",
    "GROUP BY nodes_tags.value\n",
    "ORDER BY num DESC\n",
    "LIMIT 3;''')"
   ]
  },
  {
   "cell_type": "markdown",
   "metadata": {},
   "source": [
    "### Top 10 most popular cuisines"
   ]
  },
  {
   "cell_type": "code",
   "execution_count": 9,
   "metadata": {
    "collapsed": false,
    "scrolled": true
   },
   "outputs": [
    {
     "name": "stdout",
     "output_type": "stream",
     "text": [
      "(u'mexican', 200)\n",
      "(u'american', 172)\n",
      "(u'pizza', 137)\n",
      "(u'italian', 89)\n",
      "(u'chinese', 87)\n",
      "(u'sushi', 66)\n",
      "(u'japanese', 64)\n",
      "(u'thai', 64)\n",
      "(u'burger', 58)\n",
      "(u'sandwich', 45)\n"
     ]
    }
   ],
   "source": [
    "# top 10 most popular cuisines\n",
    "dbi.select_and_repr('''SELECT nodes_tags.value, COUNT(*) as num\n",
    "FROM nodes_tags \n",
    "    JOIN (SELECT DISTINCT(id) FROM nodes_tags WHERE value='restaurant') i\n",
    "    ON nodes_tags.id=i.id\n",
    "WHERE nodes_tags.key='cuisine'\n",
    "GROUP BY nodes_tags.value\n",
    "ORDER BY num DESC\n",
    "LIMIT 10;''')"
   ]
  },
  {
   "cell_type": "markdown",
   "metadata": {},
   "source": [
    "## Conclusion\n",
    "After the review of this data, a summary is made with several points:\n",
    "- Plenty of abbreviations and non-English words are represented in street names\n",
    "- All the updates are included in file but only the latest one is used in following statistics\n",
    "- Most of the surrounding cities in the sprawl are included in this map data\n",
    "- The contribution of user is kind of skewed with top 10 contribute nearly half of the data and 'labuildings' usergroup contributes one third of the data"
   ]
  }
 ],
 "metadata": {
  "kernelspec": {
   "display_name": "Python 2",
   "language": "python",
   "name": "python2"
  },
  "language_info": {
   "codemirror_mode": {
    "name": "ipython",
    "version": 2
   },
   "file_extension": ".py",
   "mimetype": "text/x-python",
   "name": "python",
   "nbconvert_exporter": "python",
   "pygments_lexer": "ipython2",
   "version": "2.7.11"
  }
 },
 "nbformat": 4,
 "nbformat_minor": 0
}
